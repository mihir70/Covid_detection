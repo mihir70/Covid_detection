{
 "cells": [
  {
   "cell_type": "code",
   "execution_count": 1,
   "source": [
    "import pandas as pd\r\n",
    "import numpy as np\r\n",
    "import tensorflow as tf\r\n",
    "from tensorflow import keras\r\n",
    "import matplotlib.pyplot as plt\r\n",
    "import os\r\n",
    "import PIL\r\n",
    "import cv2\r\n",
    "from random import shuffle\r\n",
    "from tensorflow.keras.utils import to_categorical\r\n",
    "from sklearn.preprocessing import LabelBinarizer\r\n",
    "from sklearn.model_selection import train_test_split\r\n"
   ],
   "outputs": [],
   "metadata": {}
  },
  {
   "cell_type": "code",
   "execution_count": 2,
   "source": [
    "from glob import glob\r\n",
    "data=list(glob('COVID/*.png'))\r\n",
    "print(len(data))\r\n",
    "datapng = list(glob('COVID/*.jpg'))\r\n",
    "print(len(datapng))\r\n",
    "datajpeg=list(glob('COVID/*.jpeg'))\r\n",
    "print(len(datajpeg))"
   ],
   "outputs": [
    {
     "output_type": "stream",
     "name": "stdout",
     "text": [
      "514\n",
      "1796\n",
      "1734\n"
     ]
    }
   ],
   "metadata": {}
  },
  {
   "cell_type": "code",
   "execution_count": 7,
   "source": [
    "dataf1=data\r\n",
    "dataf1=dataf1+datapng\r\n",
    "dataf1=dataf1+datajpeg\r\n",
    "print(len(dataf1))\r\n",
    "\r\n"
   ],
   "outputs": [
    {
     "output_type": "stream",
     "name": "stdout",
     "text": [
      "4046\n"
     ]
    }
   ],
   "metadata": {}
  },
  {
   "cell_type": "code",
   "execution_count": 5,
   "source": [
    "img_rows=64\r\n",
    "img_cols=64\r\n",
    "images=[]\r\n",
    "for i in datajpeg:\r\n",
    "    img=cv2.imread(i)\r\n",
    "    gray = cv2.cvtColor(img, cv2.COLOR_BGR2GRAY)\r\n",
    "    resized_img = cv2.resize(gray, (img_rows, img_cols))\r\n",
    "    images.append(resized_img)\r\n",
    "\r\n"
   ],
   "outputs": [],
   "metadata": {}
  },
  {
   "cell_type": "code",
   "execution_count": 6,
   "source": [
    "len(images)"
   ],
   "outputs": [
    {
     "output_type": "execute_result",
     "data": {
      "text/plain": [
       "4044"
      ]
     },
     "metadata": {},
     "execution_count": 6
    }
   ],
   "metadata": {}
  },
  {
   "cell_type": "code",
   "execution_count": 7,
   "source": [
    "images = np.array(images)/255.0\r\n",
    "images = np.reshape(images, (images.shape[0], img_rows, img_cols, 1))\r\n"
   ],
   "outputs": [],
   "metadata": {}
  },
  {
   "cell_type": "code",
   "execution_count": 8,
   "source": [
    "images[0]"
   ],
   "outputs": [
    {
     "output_type": "execute_result",
     "data": {
      "text/plain": [
       "array([[[0.        ],\n",
       "        [0.        ],\n",
       "        [0.        ],\n",
       "        ...,\n",
       "        [0.        ],\n",
       "        [0.        ],\n",
       "        [0.        ]],\n",
       "\n",
       "       [[0.        ],\n",
       "        [0.        ],\n",
       "        [0.        ],\n",
       "        ...,\n",
       "        [0.        ],\n",
       "        [0.        ],\n",
       "        [0.        ]],\n",
       "\n",
       "       [[0.        ],\n",
       "        [0.        ],\n",
       "        [0.        ],\n",
       "        ...,\n",
       "        [0.        ],\n",
       "        [0.        ],\n",
       "        [0.        ]],\n",
       "\n",
       "       ...,\n",
       "\n",
       "       [[0.        ],\n",
       "        [0.07058824],\n",
       "        [0.12156863],\n",
       "        ...,\n",
       "        [0.41176471],\n",
       "        [0.28627451],\n",
       "        [0.17647059]],\n",
       "\n",
       "       [[0.03137255],\n",
       "        [0.08627451],\n",
       "        [0.14117647],\n",
       "        ...,\n",
       "        [0.43921569],\n",
       "        [0.29803922],\n",
       "        [0.18431373]],\n",
       "\n",
       "       [[0.04705882],\n",
       "        [0.11372549],\n",
       "        [0.14117647],\n",
       "        ...,\n",
       "        [0.4       ],\n",
       "        [0.32941176],\n",
       "        [0.21176471]]])"
      ]
     },
     "metadata": {},
     "execution_count": 8
    }
   ],
   "metadata": {}
  },
  {
   "cell_type": "code",
   "execution_count": 10,
   "source": [
    "datan = list(glob('Non-COVID/*.png'))\r\n",
    "print(len(datan))\r\n",
    "datapngn = list(glob('Non-COVID/*.jpg'))\r\n",
    "print(len(datapngn))\r\n",
    "datajpegn = list(glob('Non-COVID/*.jpeg'))\r\n",
    "print(len(datajpegn))\r\n"
   ],
   "outputs": [
    {
     "output_type": "stream",
     "name": "stdout",
     "text": [
      "1861\n",
      "955\n",
      "2677\n"
     ]
    }
   ],
   "metadata": {}
  },
  {
   "cell_type": "code",
   "execution_count": 13,
   "source": [
    "img_rows = 64\r\n",
    "img_cols = 64\r\n",
    "images1 = []\r\n",
    "for i in datan:\r\n",
    "    img = cv2.imread(i)\r\n",
    "    gray = cv2.cvtColor(img, cv2.COLOR_BGR2GRAY)\r\n",
    "    resized_img = cv2.resize(gray, (img_rows, img_cols))\r\n",
    "    images1.append(resized_img)\r\n"
   ],
   "outputs": [],
   "metadata": {}
  },
  {
   "cell_type": "code",
   "execution_count": 14,
   "source": [
    "print(len(images1))\r\n",
    "images1 = np.array(images1)/255.0\r\n",
    "images1 = np.reshape(images1, (images1.shape[0], img_rows, img_cols, 1))\r\n"
   ],
   "outputs": [
    {
     "output_type": "stream",
     "name": "stdout",
     "text": [
      "5493\n"
     ]
    }
   ],
   "metadata": {}
  },
  {
   "cell_type": "code",
   "execution_count": 23,
   "source": [
    "label=np.empty(4044)\r\n",
    "label.fill(1)\r\n",
    "#1 means covid and 0 means non\r\n",
    "label1=np.empty(5493)\r\n",
    "label1.fill(0)"
   ],
   "outputs": [],
   "metadata": {}
  },
  {
   "cell_type": "code",
   "execution_count": 24,
   "source": [
    "label=np.concatenate((label,label1))\r\n",
    "print(label.shape)"
   ],
   "outputs": [
    {
     "output_type": "stream",
     "name": "stdout",
     "text": [
      "(9537,)\n"
     ]
    }
   ],
   "metadata": {}
  },
  {
   "cell_type": "code",
   "execution_count": 25,
   "source": [
    "label = label.astype(np.int32)"
   ],
   "outputs": [],
   "metadata": {}
  },
  {
   "cell_type": "code",
   "execution_count": 18,
   "source": [
    "images=np.concatenate((images, images1), axis=0)\r\n",
    "images.shape\r\n"
   ],
   "outputs": [
    {
     "output_type": "execute_result",
     "data": {
      "text/plain": [
       "(9537, 64, 64, 1)"
      ]
     },
     "metadata": {},
     "execution_count": 18
    }
   ],
   "metadata": {}
  },
  {
   "cell_type": "code",
   "execution_count": 26,
   "source": [
    "i=images[0:2000]"
   ],
   "outputs": [],
   "metadata": {}
  },
  {
   "cell_type": "code",
   "execution_count": 27,
   "source": [
    "i1=images[6000:8000]"
   ],
   "outputs": [],
   "metadata": {}
  },
  {
   "cell_type": "code",
   "execution_count": 29,
   "source": [
    "imagesfinal=np.concatenate((i,i1),axis=0)\r\n",
    "imagesfinal.shape"
   ],
   "outputs": [
    {
     "output_type": "execute_result",
     "data": {
      "text/plain": [
       "(4000, 64, 64, 1)"
      ]
     },
     "metadata": {},
     "execution_count": 29
    }
   ],
   "metadata": {}
  },
  {
   "cell_type": "code",
   "execution_count": 30,
   "source": [
    "labelfinal = np.concatenate((label[0:2000], label[6000:8000]))\r\n",
    "labelfinal.shape\r\n",
    "\r\n"
   ],
   "outputs": [
    {
     "output_type": "execute_result",
     "data": {
      "text/plain": [
       "(4000,)"
      ]
     },
     "metadata": {},
     "execution_count": 30
    }
   ],
   "metadata": {}
  },
  {
   "cell_type": "code",
   "execution_count": 40,
   "source": [
    "lb = LabelBinarizer()\r\n",
    "labelfinal = lb.fit_transform(labelfinal)\r\n",
    "labelfinal = to_categorical(labelfinal)\r\n",
    "labelfinal = np.array(labelfinal)\r\n"
   ],
   "outputs": [],
   "metadata": {}
  },
  {
   "cell_type": "code",
   "execution_count": 41,
   "source": [
    "(X_train, X_test, y_train, y_test) = train_test_split(\r\n",
    "    imagesfinal, labelfinal, test_size=0.25, random_state=0)\r\n"
   ],
   "outputs": [],
   "metadata": {}
  },
  {
   "cell_type": "code",
   "execution_count": 42,
   "source": [
    "X_train[0]"
   ],
   "outputs": [
    {
     "output_type": "execute_result",
     "data": {
      "text/plain": [
       "array([[[0.12941176],\n",
       "        [0.09803922],\n",
       "        [0.09803922],\n",
       "        ...,\n",
       "        [0.09803922],\n",
       "        [0.09803922],\n",
       "        [0.10196078]],\n",
       "\n",
       "       [[0.1254902 ],\n",
       "        [0.09803922],\n",
       "        [0.09803922],\n",
       "        ...,\n",
       "        [0.09411765],\n",
       "        [0.09803922],\n",
       "        [0.09411765]],\n",
       "\n",
       "       [[0.12156863],\n",
       "        [0.09803922],\n",
       "        [0.09803922],\n",
       "        ...,\n",
       "        [0.09411765],\n",
       "        [0.09411765],\n",
       "        [0.09019608]],\n",
       "\n",
       "       ...,\n",
       "\n",
       "       [[0.2745098 ],\n",
       "        [0.36862745],\n",
       "        [0.41568627],\n",
       "        ...,\n",
       "        [0.34901961],\n",
       "        [0.27058824],\n",
       "        [0.22352941]],\n",
       "\n",
       "       [[0.32941176],\n",
       "        [0.41960784],\n",
       "        [0.44705882],\n",
       "        ...,\n",
       "        [0.35294118],\n",
       "        [0.29019608],\n",
       "        [0.23921569]],\n",
       "\n",
       "       [[0.41960784],\n",
       "        [0.46666667],\n",
       "        [0.51372549],\n",
       "        ...,\n",
       "        [0.41960784],\n",
       "        [0.34901961],\n",
       "        [0.28235294]]])"
      ]
     },
     "metadata": {},
     "execution_count": 42
    }
   ],
   "metadata": {}
  },
  {
   "cell_type": "code",
   "execution_count": 33,
   "source": [
    "\r\n",
    "from tensorflow import keras\r\n",
    "from tensorflow.keras import layers\r\n",
    "from tensorflow.keras.models import Sequential\r\n"
   ],
   "outputs": [],
   "metadata": {}
  },
  {
   "cell_type": "code",
   "execution_count": 43,
   "source": [
    "\r\n",
    "model = Sequential([\r\n",
    "    layers.Conv2D(32, (3, 3), padding='same', activation='relu',\r\n",
    "                  input_shape=(img_rows, img_cols, 1)),\r\n",
    "    layers.MaxPooling2D(),\r\n",
    "    layers.Conv2D(64, (3, 3), padding='same', activation='relu'),\r\n",
    "    layers.MaxPooling2D(),\r\n",
    "    layers.Conv2D(16, (3, 3), padding='same', activation='relu'),\r\n",
    "    layers.MaxPooling2D(),\r\n",
    "    layers.Flatten(),\r\n",
    "    layers.Dropout(0.5),\r\n",
    "    layers.Dense(64, activation='relu'),\r\n",
    "    layers.Dense(2, activation='softmax')\r\n",
    "])\r\n"
   ],
   "outputs": [],
   "metadata": {}
  },
  {
   "cell_type": "code",
   "execution_count": 44,
   "source": [
    "model.compile(optimizer='adam',\r\n",
    "              loss=tf.keras.losses.BinaryCrossentropy(from_logits=True),\r\n",
    "              metrics=['accuracy'])\r\n"
   ],
   "outputs": [],
   "metadata": {}
  },
  {
   "cell_type": "code",
   "execution_count": 45,
   "source": [
    "model.summary()"
   ],
   "outputs": [
    {
     "output_type": "stream",
     "name": "stdout",
     "text": [
      "Model: \"sequential_2\"\n",
      "_________________________________________________________________\n",
      "Layer (type)                 Output Shape              Param #   \n",
      "=================================================================\n",
      "conv2d_6 (Conv2D)            (None, 64, 64, 32)        320       \n",
      "_________________________________________________________________\n",
      "max_pooling2d_6 (MaxPooling2 (None, 32, 32, 32)        0         \n",
      "_________________________________________________________________\n",
      "conv2d_7 (Conv2D)            (None, 32, 32, 64)        18496     \n",
      "_________________________________________________________________\n",
      "max_pooling2d_7 (MaxPooling2 (None, 16, 16, 64)        0         \n",
      "_________________________________________________________________\n",
      "conv2d_8 (Conv2D)            (None, 16, 16, 16)        9232      \n",
      "_________________________________________________________________\n",
      "max_pooling2d_8 (MaxPooling2 (None, 8, 8, 16)          0         \n",
      "_________________________________________________________________\n",
      "flatten_2 (Flatten)          (None, 1024)              0         \n",
      "_________________________________________________________________\n",
      "dropout_2 (Dropout)          (None, 1024)              0         \n",
      "_________________________________________________________________\n",
      "dense_4 (Dense)              (None, 64)                65600     \n",
      "_________________________________________________________________\n",
      "dense_5 (Dense)              (None, 2)                 130       \n",
      "=================================================================\n",
      "Total params: 93,778\n",
      "Trainable params: 93,778\n",
      "Non-trainable params: 0\n",
      "_________________________________________________________________\n"
     ]
    }
   ],
   "metadata": {}
  },
  {
   "cell_type": "code",
   "execution_count": 46,
   "source": [
    "y_train"
   ],
   "outputs": [
    {
     "output_type": "execute_result",
     "data": {
      "text/plain": [
       "array([[0., 1.],\n",
       "       [1., 0.],\n",
       "       [1., 0.],\n",
       "       ...,\n",
       "       [0., 1.],\n",
       "       [1., 0.],\n",
       "       [1., 0.]], dtype=float32)"
      ]
     },
     "metadata": {},
     "execution_count": 46
    }
   ],
   "metadata": {}
  },
  {
   "cell_type": "code",
   "execution_count": 47,
   "source": [
    "model.fit(X_train, y_train, epochs=50)\r\n"
   ],
   "outputs": [
    {
     "output_type": "stream",
     "name": "stdout",
     "text": [
      "Epoch 1/50\n"
     ]
    },
    {
     "output_type": "stream",
     "name": "stderr",
     "text": [
      "C:\\Users\\HP\\Desktop\\python\\lib\\site-packages\\tensorflow\\python\\keras\\backend.py:5016: UserWarning: \"`binary_crossentropy` received `from_logits=True`, but the `output` argument was produced by a sigmoid or softmax activation and thus does not represent logits. Was this intended?\"\n",
      "  warnings.warn(\n"
     ]
    },
    {
     "output_type": "stream",
     "name": "stdout",
     "text": [
      "94/94 [==============================] - 13s 126ms/step - loss: 0.6385 - accuracy: 0.6330\n",
      "Epoch 2/50\n",
      "94/94 [==============================] - 12s 128ms/step - loss: 0.4917 - accuracy: 0.7693\n",
      "Epoch 3/50\n",
      "94/94 [==============================] - 12s 123ms/step - loss: 0.4165 - accuracy: 0.8067\n",
      "Epoch 4/50\n",
      "94/94 [==============================] - 12s 126ms/step - loss: 0.3572 - accuracy: 0.8437\n",
      "Epoch 5/50\n",
      "94/94 [==============================] - 12s 127ms/step - loss: 0.3262 - accuracy: 0.8617\n",
      "Epoch 6/50\n",
      "94/94 [==============================] - 12s 130ms/step - loss: 0.2877 - accuracy: 0.8770\n",
      "Epoch 7/50\n",
      "94/94 [==============================] - 12s 131ms/step - loss: 0.2695 - accuracy: 0.8900\n",
      "Epoch 8/50\n",
      "94/94 [==============================] - 12s 131ms/step - loss: 0.2522 - accuracy: 0.8993\n",
      "Epoch 9/50\n",
      "94/94 [==============================] - 12s 131ms/step - loss: 0.2330 - accuracy: 0.9037\n",
      "Epoch 10/50\n",
      "94/94 [==============================] - 12s 132ms/step - loss: 0.2184 - accuracy: 0.9153\n",
      "Epoch 11/50\n",
      "94/94 [==============================] - 12s 132ms/step - loss: 0.2100 - accuracy: 0.9160\n",
      "Epoch 12/50\n",
      "94/94 [==============================] - 13s 134ms/step - loss: 0.1913 - accuracy: 0.9253\n",
      "Epoch 13/50\n",
      "94/94 [==============================] - 13s 134ms/step - loss: 0.1891 - accuracy: 0.9303\n",
      "Epoch 14/50\n",
      "94/94 [==============================] - 13s 134ms/step - loss: 0.1738 - accuracy: 0.9297\n",
      "Epoch 15/50\n",
      "94/94 [==============================] - 13s 133ms/step - loss: 0.1697 - accuracy: 0.9343\n",
      "Epoch 16/50\n",
      "94/94 [==============================] - 13s 135ms/step - loss: 0.1595 - accuracy: 0.9350\n",
      "Epoch 17/50\n",
      "94/94 [==============================] - 13s 134ms/step - loss: 0.1510 - accuracy: 0.9417\n",
      "Epoch 18/50\n",
      "94/94 [==============================] - 13s 135ms/step - loss: 0.1358 - accuracy: 0.9480\n",
      "Epoch 19/50\n",
      "94/94 [==============================] - 13s 136ms/step - loss: 0.1378 - accuracy: 0.9463\n",
      "Epoch 20/50\n",
      "94/94 [==============================] - 13s 136ms/step - loss: 0.1285 - accuracy: 0.9503\n",
      "Epoch 21/50\n",
      "94/94 [==============================] - 13s 141ms/step - loss: 0.1180 - accuracy: 0.9540\n",
      "Epoch 22/50\n",
      "94/94 [==============================] - 13s 142ms/step - loss: 0.1120 - accuracy: 0.9607\n",
      "Epoch 23/50\n",
      "94/94 [==============================] - 13s 139ms/step - loss: 0.1080 - accuracy: 0.9600\n",
      "Epoch 24/50\n",
      "94/94 [==============================] - 13s 143ms/step - loss: 0.0995 - accuracy: 0.9613\n",
      "Epoch 25/50\n",
      "94/94 [==============================] - 14s 145ms/step - loss: 0.0891 - accuracy: 0.9663\n",
      "Epoch 26/50\n",
      "94/94 [==============================] - 13s 140ms/step - loss: 0.0855 - accuracy: 0.9673\n",
      "Epoch 27/50\n",
      "94/94 [==============================] - 13s 139ms/step - loss: 0.0993 - accuracy: 0.9653\n",
      "Epoch 28/50\n",
      "94/94 [==============================] - 13s 140ms/step - loss: 0.0822 - accuracy: 0.9707\n",
      "Epoch 29/50\n",
      "94/94 [==============================] - 13s 141ms/step - loss: 0.0741 - accuracy: 0.9713\n",
      "Epoch 30/50\n",
      "94/94 [==============================] - 13s 141ms/step - loss: 0.0868 - accuracy: 0.9680\n",
      "Epoch 31/50\n",
      "94/94 [==============================] - 13s 141ms/step - loss: 0.0790 - accuracy: 0.9703\n",
      "Epoch 32/50\n",
      "94/94 [==============================] - 13s 142ms/step - loss: 0.0841 - accuracy: 0.9693\n",
      "Epoch 33/50\n",
      "94/94 [==============================] - 13s 142ms/step - loss: 0.0736 - accuracy: 0.9770\n",
      "Epoch 34/50\n",
      "94/94 [==============================] - 13s 143ms/step - loss: 0.0568 - accuracy: 0.9807\n",
      "Epoch 35/50\n",
      "94/94 [==============================] - 13s 142ms/step - loss: 0.0654 - accuracy: 0.9780\n",
      "Epoch 36/50\n",
      "94/94 [==============================] - 13s 143ms/step - loss: 0.0600 - accuracy: 0.9787\n",
      "Epoch 37/50\n",
      "94/94 [==============================] - 13s 143ms/step - loss: 0.0658 - accuracy: 0.9757\n",
      "Epoch 38/50\n",
      "94/94 [==============================] - 14s 145ms/step - loss: 0.0624 - accuracy: 0.9753\n",
      "Epoch 39/50\n",
      "94/94 [==============================] - 13s 143ms/step - loss: 0.0549 - accuracy: 0.9803\n",
      "Epoch 40/50\n",
      "94/94 [==============================] - 14s 145ms/step - loss: 0.0513 - accuracy: 0.9823\n",
      "Epoch 41/50\n",
      "94/94 [==============================] - 14s 145ms/step - loss: 0.0509 - accuracy: 0.9800\n",
      "Epoch 42/50\n",
      "94/94 [==============================] - 14s 145ms/step - loss: 0.0449 - accuracy: 0.9847\n",
      "Epoch 43/50\n",
      "94/94 [==============================] - 14s 146ms/step - loss: 0.0541 - accuracy: 0.9790\n",
      "Epoch 44/50\n",
      "94/94 [==============================] - 14s 146ms/step - loss: 0.0459 - accuracy: 0.9837\n",
      "Epoch 45/50\n",
      "94/94 [==============================] - 14s 147ms/step - loss: 0.0429 - accuracy: 0.9847\n",
      "Epoch 46/50\n",
      "94/94 [==============================] - 14s 146ms/step - loss: 0.0407 - accuracy: 0.9863\n",
      "Epoch 47/50\n",
      "94/94 [==============================] - 14s 146ms/step - loss: 0.0411 - accuracy: 0.9870\n",
      "Epoch 48/50\n",
      "94/94 [==============================] - 14s 147ms/step - loss: 0.0413 - accuracy: 0.9843\n",
      "Epoch 49/50\n",
      "94/94 [==============================] - 14s 147ms/step - loss: 0.0419 - accuracy: 0.9847\n",
      "Epoch 50/50\n",
      "94/94 [==============================] - 14s 147ms/step - loss: 0.0415 - accuracy: 0.9857\n"
     ]
    },
    {
     "output_type": "execute_result",
     "data": {
      "text/plain": [
       "<tensorflow.python.keras.callbacks.History at 0x15281242220>"
      ]
     },
     "metadata": {},
     "execution_count": 47
    }
   ],
   "metadata": {}
  },
  {
   "cell_type": "code",
   "execution_count": 48,
   "source": [
    "\r\n",
    "predictions = model.predict(X_test)\r\n"
   ],
   "outputs": [],
   "metadata": {}
  },
  {
   "cell_type": "code",
   "execution_count": 50,
   "source": [
    "score = (tf.nn.softmax(predictions))\r\n"
   ],
   "outputs": [],
   "metadata": {}
  },
  {
   "cell_type": "code",
   "execution_count": 54,
   "source": [
    "pred=lb.inverse_transform(predictions)\r\n",
    "y_te=lb.inverse_transform(y_test)"
   ],
   "outputs": [],
   "metadata": {}
  },
  {
   "cell_type": "code",
   "execution_count": 55,
   "source": [
    "from sklearn.metrics import accuracy_score\r\n",
    "accuracy_score(y_te, pred)\r\n"
   ],
   "outputs": [
    {
     "output_type": "execute_result",
     "data": {
      "text/plain": [
       "0.957"
      ]
     },
     "metadata": {},
     "execution_count": 55
    }
   ],
   "metadata": {}
  },
  {
   "cell_type": "code",
   "execution_count": null,
   "source": [],
   "outputs": [],
   "metadata": {}
  }
 ],
 "metadata": {
  "orig_nbformat": 4,
  "language_info": {
   "name": "python",
   "version": "3.8.1",
   "mimetype": "text/x-python",
   "codemirror_mode": {
    "name": "ipython",
    "version": 3
   },
   "pygments_lexer": "ipython3",
   "nbconvert_exporter": "python",
   "file_extension": ".py"
  },
  "kernelspec": {
   "name": "python3",
   "display_name": "Python 3.8.1 64-bit"
  },
  "interpreter": {
   "hash": "d59f0ecc3e34c0d92eaa23a59b1bfdef8f9d6f2d94940e54ff26c29ff797b94e"
  }
 },
 "nbformat": 4,
 "nbformat_minor": 2
}